{
 "cells": [
  {
   "cell_type": "code",
   "execution_count": 4,
   "id": "505a76e8-1a02-4f12-b6df-217c411e4f78",
   "metadata": {
    "tags": []
   },
   "outputs": [],
   "source": [
    "import pandas as pd\n",
    "\n",
    "#working with possible errors using pandas"
   ]
  },
  {
   "cell_type": "code",
   "execution_count": 3,
   "id": "692200ca-7e77-4ba6-80e4-e9966884ba42",
   "metadata": {
    "tags": []
   },
   "outputs": [
    {
     "data": {
      "text/html": [
       "<div>\n",
       "<style scoped>\n",
       "    .dataframe tbody tr th:only-of-type {\n",
       "        vertical-align: middle;\n",
       "    }\n",
       "\n",
       "    .dataframe tbody tr th {\n",
       "        vertical-align: top;\n",
       "    }\n",
       "\n",
       "    .dataframe thead th {\n",
       "        text-align: right;\n",
       "    }\n",
       "</style>\n",
       "<table border=\"1\" class=\"dataframe\">\n",
       "  <thead>\n",
       "    <tr style=\"text-align: right;\">\n",
       "      <th></th>\n",
       "      <th>Athlete</th>\n",
       "      <th>Gold</th>\n",
       "      <th>Silver</th>\n",
       "      <th>Bronze</th>\n",
       "    </tr>\n",
       "  </thead>\n",
       "  <tbody>\n",
       "    <tr>\n",
       "      <th>0</th>\n",
       "      <td>ABAKUMOVA, Maria</td>\n",
       "      <td>0</td>\n",
       "      <td>1</td>\n",
       "      <td>0</td>\n",
       "    </tr>\n",
       "    <tr>\n",
       "      <th>1</th>\n",
       "      <td>ABEYLEGESSE, Elvan</td>\n",
       "      <td>0</td>\n",
       "      <td>2</td>\n",
       "      <td>0</td>\n",
       "    </tr>\n",
       "    <tr>\n",
       "      <th>2</th>\n",
       "      <td>ALEKNA, Virgilijus</td>\n",
       "      <td>0</td>\n",
       "      <td>0</td>\n",
       "      <td>1</td>\n",
       "    </tr>\n",
       "    <tr>\n",
       "      <th>3</th>\n",
       "      <td>ALEXEEV, Denis</td>\n",
       "      <td>0</td>\n",
       "      <td>0</td>\n",
       "      <td>1</td>\n",
       "    </tr>\n",
       "    <tr>\n",
       "      <th>4</th>\n",
       "      <td>ANTONOVA, Olena</td>\n",
       "      <td>0</td>\n",
       "      <td>0</td>\n",
       "      <td>1</td>\n",
       "    </tr>\n",
       "    <tr>\n",
       "      <th>...</th>\n",
       "      <td>...</td>\n",
       "      <td>...</td>\n",
       "      <td>...</td>\n",
       "      <td>...</td>\n",
       "    </tr>\n",
       "    <tr>\n",
       "      <th>154</th>\n",
       "      <td>WINEBERG, Mary</td>\n",
       "      <td>1</td>\n",
       "      <td>0</td>\n",
       "      <td>0</td>\n",
       "    </tr>\n",
       "    <tr>\n",
       "      <th>155</th>\n",
       "      <td>YEGO, Alfred Kirwa</td>\n",
       "      <td>0</td>\n",
       "      <td>0</td>\n",
       "      <td>1</td>\n",
       "    </tr>\n",
       "    <tr>\n",
       "      <th>156</th>\n",
       "      <td>YURCHENKO, Denys</td>\n",
       "      <td>0</td>\n",
       "      <td>0</td>\n",
       "      <td>1</td>\n",
       "    </tr>\n",
       "    <tr>\n",
       "      <th>157</th>\n",
       "      <td>ZHANG, Wenxiu</td>\n",
       "      <td>0</td>\n",
       "      <td>0</td>\n",
       "      <td>1</td>\n",
       "    </tr>\n",
       "    <tr>\n",
       "      <th>158</th>\n",
       "      <td>ZHOU, Chunxiu</td>\n",
       "      <td>0</td>\n",
       "      <td>0</td>\n",
       "      <td>1</td>\n",
       "    </tr>\n",
       "  </tbody>\n",
       "</table>\n",
       "<p>159 rows × 4 columns</p>\n",
       "</div>"
      ],
      "text/plain": [
       "                Athlete  Gold  Silver  Bronze\n",
       "0      ABAKUMOVA, Maria     0       1       0\n",
       "1    ABEYLEGESSE, Elvan     0       2       0\n",
       "2    ALEKNA, Virgilijus     0       0       1\n",
       "3        ALEXEEV, Denis     0       0       1\n",
       "4       ANTONOVA, Olena     0       0       1\n",
       "..                  ...   ...     ...     ...\n",
       "154      WINEBERG, Mary     1       0       0\n",
       "155  YEGO, Alfred Kirwa     0       0       1\n",
       "156    YURCHENKO, Denys     0       0       1\n",
       "157       ZHANG, Wenxiu     0       0       1\n",
       "158       ZHOU, Chunxiu     0       0       1\n",
       "\n",
       "[159 rows x 4 columns]"
      ]
     },
     "execution_count": 3,
     "metadata": {},
     "output_type": "execute_result"
    }
   ],
   "source": [
    "pd.read_csv('ath_2008.csv')"
   ]
  },
  {
   "cell_type": "code",
   "execution_count": 5,
   "id": "abd17c17-f2ce-41d3-89e1-c75dae131327",
   "metadata": {
    "tags": []
   },
   "outputs": [],
   "source": [
    "my_dict = {\"Phelps, Michael\" : 22,\n",
    "           \"Latynina, Larisa\" : 18, \n",
    "           \"Andrianov, Nikolay\" : 15,\n",
    "           \"Mangiarotti, Edoardo\" : 13, \n",
    "           \"Ono, Takashi\" : \"13\"\n",
    "          }"
   ]
  },
  {
   "cell_type": "code",
   "execution_count": 6,
   "id": "cc676da5-dbae-4030-a5b6-0d0993267eb3",
   "metadata": {
    "tags": []
   },
   "outputs": [
    {
     "data": {
      "text/plain": [
       "{'Phelps, Michael': 22,\n",
       " 'Latynina, Larisa': 18,\n",
       " 'Andrianov, Nikolay': 15,\n",
       " 'Mangiarotti, Edoardo': 13,\n",
       " 'Ono, Takashi': '13'}"
      ]
     },
     "execution_count": 6,
     "metadata": {},
     "output_type": "execute_result"
    }
   ],
   "source": [
    "my_dict"
   ]
  },
  {
   "cell_type": "code",
   "execution_count": 9,
   "id": "d9b196e2-4040-4dec-99d0-34625d28083b",
   "metadata": {
    "tags": []
   },
   "outputs": [
    {
     "ename": "KeyError",
     "evalue": "'Phelps, Micheal'",
     "output_type": "error",
     "traceback": [
      "\u001b[0;31m---------------------------------------------------------------------------\u001b[0m",
      "\u001b[0;31mKeyError\u001b[0m                                  Traceback (most recent call last)",
      "Cell \u001b[0;32mIn[9], line 2\u001b[0m\n\u001b[1;32m      1\u001b[0m \u001b[38;5;66;03m# how many medals does Michael Phelps have won?\u001b[39;00m\n\u001b[0;32m----> 2\u001b[0m my_dict[\u001b[38;5;124m\"\u001b[39m\u001b[38;5;124mPhelps, Micheal\u001b[39m\u001b[38;5;124m\"\u001b[39m]\n",
      "\u001b[0;31mKeyError\u001b[0m: 'Phelps, Micheal'"
     ]
    }
   ],
   "source": [
    "# how many medals does Michael Phelps have won?\n",
    "my_dict[\"Phelps, Micheal\"]\n",
    "\n"
   ]
  },
  {
   "cell_type": "code",
   "execution_count": 10,
   "id": "d6f137db-1922-4db6-ac6e-80328b63fac7",
   "metadata": {
    "tags": []
   },
   "outputs": [
    {
     "data": {
      "text/plain": [
       "22"
      ]
     },
     "execution_count": 10,
     "metadata": {},
     "output_type": "execute_result"
    }
   ],
   "source": [
    "my_dict[\"Phelps, Michael\"]\n"
   ]
  },
  {
   "cell_type": "code",
   "execution_count": 13,
   "id": "af435d50-061d-4b74-8496-d9cf1b873558",
   "metadata": {
    "tags": []
   },
   "outputs": [
    {
     "data": {
      "text/plain": [
       "13"
      ]
     },
     "execution_count": 13,
     "metadata": {},
     "output_type": "execute_result"
    }
   ],
   "source": [
    "int(my_dict[\"Ono, Takashi\"])"
   ]
  },
  {
   "cell_type": "code",
   "execution_count": 24,
   "id": "613e486b-0c5e-4e09-943e-86d3c82123cd",
   "metadata": {
    "tags": []
   },
   "outputs": [
    {
     "data": {
      "text/plain": [
       "35"
      ]
     },
     "execution_count": 24,
     "metadata": {},
     "output_type": "execute_result"
    }
   ],
   "source": [
    "my_dict[\"Phelps, Michael\"] + int(my_dict[\"Ono, Takashi\"])"
   ]
  },
  {
   "cell_type": "code",
   "execution_count": 5,
   "id": "74207e8e-6cdb-4a14-8ee5-7a587b665a14",
   "metadata": {},
   "outputs": [
    {
     "name": "stdout",
     "output_type": "stream",
     "text": [
      "A    1\n",
      "B    2\n",
      "dtype: int64\n"
     ]
    }
   ],
   "source": [
    "df = pd.DataFrame({'A': [1, 2, None, 4, 5], 'B': [None, 2, 3, None, 5]})\n",
    "\n",
    "# Check for missing values\n",
    "print(df.isnull().sum())"
   ]
  },
  {
   "cell_type": "code",
   "execution_count": 6,
   "id": "a099357b-8e77-4a3c-92b1-8f397513a7fa",
   "metadata": {
    "tags": []
   },
   "outputs": [
    {
     "name": "stdout",
     "output_type": "stream",
     "text": [
      "A    float64\n",
      "B    float64\n",
      "dtype: object\n"
     ]
    }
   ],
   "source": [
    "print(df.dtypes)\n"
   ]
  },
  {
   "cell_type": "code",
   "execution_count": 7,
   "id": "3133534b-99c0-4c11-814b-9972058a765c",
   "metadata": {
    "tags": []
   },
   "outputs": [
    {
     "name": "stdout",
     "output_type": "stream",
     "text": [
      "0    False\n",
      "1    False\n",
      "2    False\n",
      "3    False\n",
      "4    False\n",
      "dtype: bool\n"
     ]
    }
   ],
   "source": [
    "print(df.duplicated())\n",
    "\n",
    "# Drop duplicate rows\n",
    "df.drop_duplicates(inplace=True)"
   ]
  },
  {
   "cell_type": "code",
   "execution_count": 9,
   "id": "551d05e6-fbfa-47e8-9eee-e5f2e1e3b927",
   "metadata": {
    "tags": []
   },
   "outputs": [],
   "source": [
    "df.fillna(0, inplace=True)\n",
    "\n",
    "# Convert data types\n",
    "df['A'] = df['A'].astype(int)"
   ]
  },
  {
   "cell_type": "code",
   "execution_count": 10,
   "id": "145f5525-1998-4c37-9b0a-e3d9c99ca657",
   "metadata": {
    "tags": []
   },
   "outputs": [
    {
     "data": {
      "text/html": [
       "<div>\n",
       "<style scoped>\n",
       "    .dataframe tbody tr th:only-of-type {\n",
       "        vertical-align: middle;\n",
       "    }\n",
       "\n",
       "    .dataframe tbody tr th {\n",
       "        vertical-align: top;\n",
       "    }\n",
       "\n",
       "    .dataframe thead th {\n",
       "        text-align: right;\n",
       "    }\n",
       "</style>\n",
       "<table border=\"1\" class=\"dataframe\">\n",
       "  <thead>\n",
       "    <tr style=\"text-align: right;\">\n",
       "      <th></th>\n",
       "      <th>A</th>\n",
       "      <th>B</th>\n",
       "    </tr>\n",
       "  </thead>\n",
       "  <tbody>\n",
       "    <tr>\n",
       "      <th>0</th>\n",
       "      <td>1</td>\n",
       "      <td>0.0</td>\n",
       "    </tr>\n",
       "    <tr>\n",
       "      <th>1</th>\n",
       "      <td>2</td>\n",
       "      <td>2.0</td>\n",
       "    </tr>\n",
       "    <tr>\n",
       "      <th>2</th>\n",
       "      <td>0</td>\n",
       "      <td>3.0</td>\n",
       "    </tr>\n",
       "    <tr>\n",
       "      <th>3</th>\n",
       "      <td>4</td>\n",
       "      <td>0.0</td>\n",
       "    </tr>\n",
       "    <tr>\n",
       "      <th>4</th>\n",
       "      <td>5</td>\n",
       "      <td>5.0</td>\n",
       "    </tr>\n",
       "  </tbody>\n",
       "</table>\n",
       "</div>"
      ],
      "text/plain": [
       "   A    B\n",
       "0  1  0.0\n",
       "1  2  2.0\n",
       "2  0  3.0\n",
       "3  4  0.0\n",
       "4  5  5.0"
      ]
     },
     "execution_count": 10,
     "metadata": {},
     "output_type": "execute_result"
    }
   ],
   "source": [
    "df"
   ]
  },
  {
   "cell_type": "code",
   "execution_count": 16,
   "id": "47ac964c-04cf-4b77-aa47-b685ef246daf",
   "metadata": {
    "tags": []
   },
   "outputs": [],
   "source": [
    "df['B'] = df['B'].apply(lambda x: x * 2 if x is not None else x)"
   ]
  },
  {
   "cell_type": "code",
   "execution_count": 12,
   "id": "74b20739-7551-42fd-b1f7-9e8796cbe6f2",
   "metadata": {
    "tags": []
   },
   "outputs": [
    {
     "data": {
      "text/html": [
       "<div>\n",
       "<style scoped>\n",
       "    .dataframe tbody tr th:only-of-type {\n",
       "        vertical-align: middle;\n",
       "    }\n",
       "\n",
       "    .dataframe tbody tr th {\n",
       "        vertical-align: top;\n",
       "    }\n",
       "\n",
       "    .dataframe thead th {\n",
       "        text-align: right;\n",
       "    }\n",
       "</style>\n",
       "<table border=\"1\" class=\"dataframe\">\n",
       "  <thead>\n",
       "    <tr style=\"text-align: right;\">\n",
       "      <th></th>\n",
       "      <th>A</th>\n",
       "      <th>B</th>\n",
       "    </tr>\n",
       "  </thead>\n",
       "  <tbody>\n",
       "    <tr>\n",
       "      <th>0</th>\n",
       "      <td>1</td>\n",
       "      <td>0.0</td>\n",
       "    </tr>\n",
       "    <tr>\n",
       "      <th>1</th>\n",
       "      <td>2</td>\n",
       "      <td>4.0</td>\n",
       "    </tr>\n",
       "    <tr>\n",
       "      <th>2</th>\n",
       "      <td>0</td>\n",
       "      <td>6.0</td>\n",
       "    </tr>\n",
       "    <tr>\n",
       "      <th>3</th>\n",
       "      <td>4</td>\n",
       "      <td>0.0</td>\n",
       "    </tr>\n",
       "    <tr>\n",
       "      <th>4</th>\n",
       "      <td>5</td>\n",
       "      <td>10.0</td>\n",
       "    </tr>\n",
       "  </tbody>\n",
       "</table>\n",
       "</div>"
      ],
      "text/plain": [
       "   A     B\n",
       "0  1   0.0\n",
       "1  2   4.0\n",
       "2  0   6.0\n",
       "3  4   0.0\n",
       "4  5  10.0"
      ]
     },
     "execution_count": 12,
     "metadata": {},
     "output_type": "execute_result"
    }
   ],
   "source": [
    "df"
   ]
  },
  {
   "cell_type": "code",
   "execution_count": 17,
   "id": "3413f653-7ffd-40c8-ad19-11dd422ff4e4",
   "metadata": {
    "tags": []
   },
   "outputs": [],
   "source": [
    "df['A'] = df['A'].apply(lambda x: x * 0.5 if x is not None else x)"
   ]
  },
  {
   "cell_type": "code",
   "execution_count": 18,
   "id": "17f0156a-804e-45c0-8eef-0be8338bed6b",
   "metadata": {
    "tags": []
   },
   "outputs": [
    {
     "data": {
      "text/html": [
       "<div>\n",
       "<style scoped>\n",
       "    .dataframe tbody tr th:only-of-type {\n",
       "        vertical-align: middle;\n",
       "    }\n",
       "\n",
       "    .dataframe tbody tr th {\n",
       "        vertical-align: top;\n",
       "    }\n",
       "\n",
       "    .dataframe thead th {\n",
       "        text-align: right;\n",
       "    }\n",
       "</style>\n",
       "<table border=\"1\" class=\"dataframe\">\n",
       "  <thead>\n",
       "    <tr style=\"text-align: right;\">\n",
       "      <th></th>\n",
       "      <th>A</th>\n",
       "      <th>B</th>\n",
       "    </tr>\n",
       "  </thead>\n",
       "  <tbody>\n",
       "    <tr>\n",
       "      <th>0</th>\n",
       "      <td>0.5</td>\n",
       "      <td>0.0</td>\n",
       "    </tr>\n",
       "    <tr>\n",
       "      <th>1</th>\n",
       "      <td>1.0</td>\n",
       "      <td>8.0</td>\n",
       "    </tr>\n",
       "    <tr>\n",
       "      <th>2</th>\n",
       "      <td>0.0</td>\n",
       "      <td>12.0</td>\n",
       "    </tr>\n",
       "    <tr>\n",
       "      <th>3</th>\n",
       "      <td>2.0</td>\n",
       "      <td>0.0</td>\n",
       "    </tr>\n",
       "    <tr>\n",
       "      <th>4</th>\n",
       "      <td>2.5</td>\n",
       "      <td>20.0</td>\n",
       "    </tr>\n",
       "  </tbody>\n",
       "</table>\n",
       "</div>"
      ],
      "text/plain": [
       "     A     B\n",
       "0  0.5   0.0\n",
       "1  1.0   8.0\n",
       "2  0.0  12.0\n",
       "3  2.0   0.0\n",
       "4  2.5  20.0"
      ]
     },
     "execution_count": 18,
     "metadata": {},
     "output_type": "execute_result"
    }
   ],
   "source": [
    "df"
   ]
  },
  {
   "cell_type": "code",
   "execution_count": 19,
   "id": "848b0eea-dc1d-4d6f-94dc-9d9f70fd9b85",
   "metadata": {
    "tags": []
   },
   "outputs": [
    {
     "name": "stdout",
     "output_type": "stream",
     "text": [
      "      A  B\n",
      "0   5.0  1\n",
      "1  10.0  2\n",
      "2   NaN  3\n",
      "3  15.0  4\n",
      "4  20.0  5\n"
     ]
    }
   ],
   "source": [
    "\n",
    "\n",
    "# Create a sample DataFrame\n",
    "data = {\n",
    "    'A': [10, 20, None, 30, 40],\n",
    "    'B': [1, 2, 3, 4, 5]\n",
    "}\n",
    "df = pd.DataFrame(data)\n",
    "\n",
    "# Define a function for data validation\n",
    "def validate_data(x):\n",
    "    if x is not None:\n",
    "        return x * 0.5  \n",
    "    else:\n",
    "        return x\n",
    "\n",
    "df['A'] = df['A'].apply(validate_data)\n",
    "\n",
    "print(df)\n"
   ]
  },
  {
   "cell_type": "code",
   "execution_count": 20,
   "id": "93da4bf8-f351-4e53-a9f9-64f30a9332d9",
   "metadata": {
    "tags": []
   },
   "outputs": [
    {
     "name": "stdout",
     "output_type": "stream",
     "text": [
      "Value of x: 5.0\n",
      "Value of x: 10.0\n",
      "Value of x: nan\n",
      "Value of x: 15.0\n",
      "Value of x: 20.0\n"
     ]
    }
   ],
   "source": [
    "def validate_data(x):\n",
    "    print(\"Value of x:\", x)\n",
    "    if x is not None:\n",
    "        return x * 0.5\n",
    "    else:\n",
    "        return x\n",
    "\n",
    "df['A'] = df['A'].apply(validate_data)\n"
   ]
  },
  {
   "cell_type": "code",
   "execution_count": null,
   "id": "87d603c2-9295-4087-a599-c260e6b7b507",
   "metadata": {},
   "outputs": [],
   "source": []
  }
 ],
 "metadata": {
  "kernelspec": {
   "display_name": "Python 3 (ipykernel)",
   "language": "python",
   "name": "python3"
  },
  "language_info": {
   "codemirror_mode": {
    "name": "ipython",
    "version": 3
   },
   "file_extension": ".py",
   "mimetype": "text/x-python",
   "name": "python",
   "nbconvert_exporter": "python",
   "pygments_lexer": "ipython3",
   "version": "3.11.5"
  }
 },
 "nbformat": 4,
 "nbformat_minor": 5
}
